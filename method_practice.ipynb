{
 "cells": [
  {
   "cell_type": "code",
   "execution_count": 1,
   "metadata": {},
   "outputs": [
    {
     "name": "stdout",
     "output_type": "stream",
     "text": [
      "['books', 'magazines', 'notebooks', 'pencils', 'registers', 'erasers']\n"
     ]
    }
   ],
   "source": [
    "list = [\"books\", \"magazines\", \"notebooks\", \"pencils\", \"registers\"]\n",
    "list.append(\"erasers\")\n",
    "print(list)"
   ]
  },
  {
   "cell_type": "code",
   "execution_count": 4,
   "metadata": {},
   "outputs": [
    {
     "name": "stdout",
     "output_type": "stream",
     "text": [
      "['books', 'magazines', 'notebooks', 'pencils', 'registers', 'beans', 'bags', 'sharpners', 'bottles']\n"
     ]
    }
   ],
   "source": [
    "list = [\"books\", \"magazines\", \"notebooks\", \"pencils\", \"registers\"]\n",
    "list2 = [\"beans\", \"bags\", \"sharpners\", \"bottles\"]\n",
    "list.extend(list2)\n",
    "print(list)"
   ]
  },
  {
   "cell_type": "code",
   "execution_count": 13,
   "metadata": {},
   "outputs": [
    {
     "name": "stdout",
     "output_type": "stream",
     "text": [
      "1\n"
     ]
    }
   ],
   "source": [
    "list = [\"Nadia\", \"Mary\", \"Happy\"]\n",
    "numbers_to_count = list.count(\"Nadia\")\n",
    "print(numbers_to_count)\n"
   ]
  },
  {
   "cell_type": "code",
   "execution_count": 14,
   "metadata": {},
   "outputs": [
    {
     "name": "stdout",
     "output_type": "stream",
     "text": [
      "['books', 'magazines', 'notebooks', 'foolish', 'pencils', 'registers']\n"
     ]
    }
   ],
   "source": [
    "list = [\"books\", \"magazines\", \"notebooks\", \"pencils\", \"registers\"]\n",
    "list.insert(3, \"foolish\")\n",
    "print(list)"
   ]
  },
  {
   "cell_type": "code",
   "execution_count": 16,
   "metadata": {},
   "outputs": [
    {
     "name": "stdout",
     "output_type": "stream",
     "text": [
      "['books', 'magazines', 'pencils', 'registers']\n"
     ]
    }
   ],
   "source": [
    "list = [\"books\", \"magazines\", \"notebooks\", \"pencils\", \"registers\"]\n",
    "list.remove(\"notebooks\")\n",
    "print(list)"
   ]
  },
  {
   "cell_type": "code",
   "execution_count": 17,
   "metadata": {},
   "outputs": [
    {
     "name": "stdout",
     "output_type": "stream",
     "text": [
      "['books', 'notebooks', 'pencils', 'registers']\n"
     ]
    }
   ],
   "source": [
    "list = [\"books\", \"magazines\", \"notebooks\", \"pencils\", \"registers\"]\n",
    "list.pop(1)\n",
    "print(list)"
   ]
  },
  {
   "cell_type": "code",
   "execution_count": 23,
   "metadata": {},
   "outputs": [
    {
     "data": {
      "text/plain": [
       "5"
      ]
     },
     "execution_count": 23,
     "metadata": {},
     "output_type": "execute_result"
    }
   ],
   "source": [
    "list = [\"books\", \"magazines\", \"notebooks\", \"pencils\", \"registers\"]\n",
    "len(list)"
   ]
  },
  {
   "cell_type": "code",
   "execution_count": 28,
   "metadata": {},
   "outputs": [
    {
     "data": {
      "text/plain": [
       "'books'"
      ]
     },
     "execution_count": 28,
     "metadata": {},
     "output_type": "execute_result"
    }
   ],
   "source": [
    "list = [\"books\", \"magazines\", \"notebooks\", \"pencils\", \"register\"]\n",
    "min(list)"
   ]
  },
  {
   "cell_type": "code",
   "execution_count": 53,
   "metadata": {},
   "outputs": [
    {
     "name": "stdout",
     "output_type": "stream",
     "text": [
      "['registers', 'pencils', 'notebooks', 'magazines', 'books']\n"
     ]
    }
   ],
   "source": [
    "list = [\"books\", \"magazines\", \"notebooks\", \"pencils\", \"registers\"]\n",
    "list.reverse()\n",
    "print(list)"
   ]
  },
  {
   "cell_type": "code",
   "execution_count": null,
   "metadata": {},
   "outputs": [],
   "source": []
  },
  {
   "cell_type": "code",
   "execution_count": 54,
   "metadata": {},
   "outputs": [
    {
     "name": "stdout",
     "output_type": "stream",
     "text": [
      "['registers', 'pencils', 'notebooks', 'magazines', 'books']\n"
     ]
    }
   ],
   "source": [
    "list = [\"books\", \"magazines\", \"notebooks\", \"pencils\", \"registers\"]\n",
    "list.reverse()\n",
    "print(list)"
   ]
  }
 ],
 "metadata": {
  "kernelspec": {
   "display_name": "Python 3",
   "language": "python",
   "name": "python3"
  },
  "language_info": {
   "codemirror_mode": {
    "name": "ipython",
    "version": 3
   },
   "file_extension": ".py",
   "mimetype": "text/x-python",
   "name": "python",
   "nbconvert_exporter": "python",
   "pygments_lexer": "ipython3",
   "version": "3.12.4"
  }
 },
 "nbformat": 4,
 "nbformat_minor": 2
}
